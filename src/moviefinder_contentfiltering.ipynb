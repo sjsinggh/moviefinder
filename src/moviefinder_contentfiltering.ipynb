{
 "cells": [
  {
   "cell_type": "markdown",
   "metadata": {},
   "source": [
    "## Part 1 - Read and tranform the movies data to get a column containing all keywords"
   ]
  },
  {
   "cell_type": "code",
   "execution_count": 3,
   "metadata": {},
   "outputs": [],
   "source": [
    "import pandas as pd"
   ]
  },
  {
   "cell_type": "code",
   "execution_count": 4,
   "metadata": {},
   "outputs": [
    {
     "data": {
      "text/plain": [
       "(15430, 15)"
      ]
     },
     "execution_count": 4,
     "metadata": {},
     "output_type": "execute_result"
    }
   ],
   "source": [
    "df  = pd.read_csv('../data/movies.csv')\n",
    "\n",
    "df.shape"
   ]
  },
  {
   "cell_type": "code",
   "execution_count": 5,
   "metadata": {
    "scrolled": false
   },
   "outputs": [
    {
     "data": {
      "text/html": [
       "<div>\n",
       "<style scoped>\n",
       "    .dataframe tbody tr th:only-of-type {\n",
       "        vertical-align: middle;\n",
       "    }\n",
       "\n",
       "    .dataframe tbody tr th {\n",
       "        vertical-align: top;\n",
       "    }\n",
       "\n",
       "    .dataframe thead th {\n",
       "        text-align: right;\n",
       "    }\n",
       "</style>\n",
       "<table border=\"1\" class=\"dataframe\">\n",
       "  <thead>\n",
       "    <tr style=\"text-align: right;\">\n",
       "      <th></th>\n",
       "      <th>ID</th>\n",
       "      <th>Title</th>\n",
       "      <th>Year</th>\n",
       "      <th>Age</th>\n",
       "      <th>IMDb</th>\n",
       "      <th>Rotten Tomatoes</th>\n",
       "      <th>Netflix</th>\n",
       "      <th>Hulu</th>\n",
       "      <th>Prime Video</th>\n",
       "      <th>Disney+</th>\n",
       "      <th>Directors</th>\n",
       "      <th>Genres</th>\n",
       "      <th>Country</th>\n",
       "      <th>Language</th>\n",
       "      <th>Runtime</th>\n",
       "    </tr>\n",
       "  </thead>\n",
       "  <tbody>\n",
       "    <tr>\n",
       "      <th>0</th>\n",
       "      <td>1</td>\n",
       "      <td>Inception</td>\n",
       "      <td>2010</td>\n",
       "      <td>13+</td>\n",
       "      <td>8.8</td>\n",
       "      <td>87%</td>\n",
       "      <td>Yes</td>\n",
       "      <td>No</td>\n",
       "      <td>No</td>\n",
       "      <td>No</td>\n",
       "      <td>Christopher Nolan</td>\n",
       "      <td>Action,Adventure,Sci-Fi,Thriller</td>\n",
       "      <td>United States</td>\n",
       "      <td>English</td>\n",
       "      <td>148</td>\n",
       "    </tr>\n",
       "    <tr>\n",
       "      <th>1</th>\n",
       "      <td>2</td>\n",
       "      <td>The Matrix</td>\n",
       "      <td>1999</td>\n",
       "      <td>18+</td>\n",
       "      <td>8.7</td>\n",
       "      <td>87%</td>\n",
       "      <td>Yes</td>\n",
       "      <td>No</td>\n",
       "      <td>No</td>\n",
       "      <td>No</td>\n",
       "      <td>Lana Wachowski,Lilly Wachowski</td>\n",
       "      <td>Action,Sci-Fi</td>\n",
       "      <td>United States</td>\n",
       "      <td>English</td>\n",
       "      <td>136</td>\n",
       "    </tr>\n",
       "    <tr>\n",
       "      <th>2</th>\n",
       "      <td>3</td>\n",
       "      <td>Avengers: Infinity War</td>\n",
       "      <td>2018</td>\n",
       "      <td>13+</td>\n",
       "      <td>8.5</td>\n",
       "      <td>84%</td>\n",
       "      <td>Yes</td>\n",
       "      <td>No</td>\n",
       "      <td>No</td>\n",
       "      <td>No</td>\n",
       "      <td>Anthony Russo,Joe Russo</td>\n",
       "      <td>Action,Adventure,Sci-Fi</td>\n",
       "      <td>United States</td>\n",
       "      <td>English</td>\n",
       "      <td>149</td>\n",
       "    </tr>\n",
       "    <tr>\n",
       "      <th>3</th>\n",
       "      <td>4</td>\n",
       "      <td>Back to the Future</td>\n",
       "      <td>1985</td>\n",
       "      <td>7+</td>\n",
       "      <td>8.5</td>\n",
       "      <td>96%</td>\n",
       "      <td>Yes</td>\n",
       "      <td>No</td>\n",
       "      <td>No</td>\n",
       "      <td>No</td>\n",
       "      <td>Robert Zemeckis</td>\n",
       "      <td>Adventure,Comedy,Sci-Fi</td>\n",
       "      <td>United States</td>\n",
       "      <td>English</td>\n",
       "      <td>116</td>\n",
       "    </tr>\n",
       "    <tr>\n",
       "      <th>4</th>\n",
       "      <td>5</td>\n",
       "      <td>The Good, the Bad and the Ugly</td>\n",
       "      <td>1966</td>\n",
       "      <td>18+</td>\n",
       "      <td>8.8</td>\n",
       "      <td>97%</td>\n",
       "      <td>Yes</td>\n",
       "      <td>No</td>\n",
       "      <td>Yes</td>\n",
       "      <td>No</td>\n",
       "      <td>Sergio Leone</td>\n",
       "      <td>Western</td>\n",
       "      <td>Italy</td>\n",
       "      <td>Italian</td>\n",
       "      <td>161</td>\n",
       "    </tr>\n",
       "  </tbody>\n",
       "</table>\n",
       "</div>"
      ],
      "text/plain": [
       "   ID                           Title  Year  Age  IMDb Rotten Tomatoes  \\\n",
       "0   1                       Inception  2010  13+   8.8             87%   \n",
       "1   2                      The Matrix  1999  18+   8.7             87%   \n",
       "2   3          Avengers: Infinity War  2018  13+   8.5             84%   \n",
       "3   4              Back to the Future  1985   7+   8.5             96%   \n",
       "4   5  The Good, the Bad and the Ugly  1966  18+   8.8             97%   \n",
       "\n",
       "  Netflix Hulu Prime Video Disney+                       Directors  \\\n",
       "0     Yes   No          No      No               Christopher Nolan   \n",
       "1     Yes   No          No      No  Lana Wachowski,Lilly Wachowski   \n",
       "2     Yes   No          No      No         Anthony Russo,Joe Russo   \n",
       "3     Yes   No          No      No                 Robert Zemeckis   \n",
       "4     Yes   No         Yes      No                    Sergio Leone   \n",
       "\n",
       "                             Genres        Country Language  Runtime  \n",
       "0  Action,Adventure,Sci-Fi,Thriller  United States  English      148  \n",
       "1                     Action,Sci-Fi  United States  English      136  \n",
       "2           Action,Adventure,Sci-Fi  United States  English      149  \n",
       "3           Adventure,Comedy,Sci-Fi  United States  English      116  \n",
       "4                           Western          Italy  Italian      161  "
      ]
     },
     "execution_count": 5,
     "metadata": {},
     "output_type": "execute_result"
    }
   ],
   "source": [
    "df.head()"
   ]
  },
  {
   "cell_type": "markdown",
   "metadata": {},
   "source": [
    "### Selecting the required columns\n",
    "> We will use Genre, Age rating, Directors and Imdb rating to find similarity between the movies"
   ]
  },
  {
   "cell_type": "code",
   "execution_count": 6,
   "metadata": {
    "scrolled": true
   },
   "outputs": [],
   "source": [
    "df_new = df.loc[:,['Title','Age','IMDb', 'Directors', 'Genres']]"
   ]
  },
  {
   "cell_type": "code",
   "execution_count": 7,
   "metadata": {},
   "outputs": [
    {
     "data": {
      "text/html": [
       "<div>\n",
       "<style scoped>\n",
       "    .dataframe tbody tr th:only-of-type {\n",
       "        vertical-align: middle;\n",
       "    }\n",
       "\n",
       "    .dataframe tbody tr th {\n",
       "        vertical-align: top;\n",
       "    }\n",
       "\n",
       "    .dataframe thead th {\n",
       "        text-align: right;\n",
       "    }\n",
       "</style>\n",
       "<table border=\"1\" class=\"dataframe\">\n",
       "  <thead>\n",
       "    <tr style=\"text-align: right;\">\n",
       "      <th></th>\n",
       "      <th>Title</th>\n",
       "      <th>Age</th>\n",
       "      <th>IMDb</th>\n",
       "      <th>Directors</th>\n",
       "      <th>Genres</th>\n",
       "    </tr>\n",
       "  </thead>\n",
       "  <tbody>\n",
       "    <tr>\n",
       "      <th>0</th>\n",
       "      <td>Inception</td>\n",
       "      <td>13+</td>\n",
       "      <td>8.8</td>\n",
       "      <td>Christopher Nolan</td>\n",
       "      <td>Action,Adventure,Sci-Fi,Thriller</td>\n",
       "    </tr>\n",
       "    <tr>\n",
       "      <th>1</th>\n",
       "      <td>The Matrix</td>\n",
       "      <td>18+</td>\n",
       "      <td>8.7</td>\n",
       "      <td>Lana Wachowski,Lilly Wachowski</td>\n",
       "      <td>Action,Sci-Fi</td>\n",
       "    </tr>\n",
       "    <tr>\n",
       "      <th>2</th>\n",
       "      <td>Avengers: Infinity War</td>\n",
       "      <td>13+</td>\n",
       "      <td>8.5</td>\n",
       "      <td>Anthony Russo,Joe Russo</td>\n",
       "      <td>Action,Adventure,Sci-Fi</td>\n",
       "    </tr>\n",
       "    <tr>\n",
       "      <th>3</th>\n",
       "      <td>Back to the Future</td>\n",
       "      <td>7+</td>\n",
       "      <td>8.5</td>\n",
       "      <td>Robert Zemeckis</td>\n",
       "      <td>Adventure,Comedy,Sci-Fi</td>\n",
       "    </tr>\n",
       "    <tr>\n",
       "      <th>4</th>\n",
       "      <td>The Good, the Bad and the Ugly</td>\n",
       "      <td>18+</td>\n",
       "      <td>8.8</td>\n",
       "      <td>Sergio Leone</td>\n",
       "      <td>Western</td>\n",
       "    </tr>\n",
       "  </tbody>\n",
       "</table>\n",
       "</div>"
      ],
      "text/plain": [
       "                            Title  Age  IMDb                       Directors  \\\n",
       "0                       Inception  13+   8.8               Christopher Nolan   \n",
       "1                      The Matrix  18+   8.7  Lana Wachowski,Lilly Wachowski   \n",
       "2          Avengers: Infinity War  13+   8.5         Anthony Russo,Joe Russo   \n",
       "3              Back to the Future   7+   8.5                 Robert Zemeckis   \n",
       "4  The Good, the Bad and the Ugly  18+   8.8                    Sergio Leone   \n",
       "\n",
       "                             Genres  \n",
       "0  Action,Adventure,Sci-Fi,Thriller  \n",
       "1                     Action,Sci-Fi  \n",
       "2           Action,Adventure,Sci-Fi  \n",
       "3           Adventure,Comedy,Sci-Fi  \n",
       "4                           Western  "
      ]
     },
     "execution_count": 7,
     "metadata": {},
     "output_type": "execute_result"
    }
   ],
   "source": [
    "df_new.head()"
   ]
  },
  {
   "cell_type": "markdown",
   "metadata": {},
   "source": [
    "### Creating a function to remove spaces\n",
    "\n",
    "> - We will apply this function to the Directors column to get the full name of the director in a single word.\n",
    "> - This is done so that similarity is not detected just based on the first name or last name of two different directors."
   ]
  },
  {
   "cell_type": "code",
   "execution_count": 8,
   "metadata": {},
   "outputs": [],
   "source": [
    "def removeSpaces(inputString):\n",
    "    if(inputString):\n",
    "        return str(inputString).replace(\" \",\"\")\n",
    "    else:\n",
    "        return None"
   ]
  },
  {
   "cell_type": "code",
   "execution_count": 9,
   "metadata": {
    "scrolled": true
   },
   "outputs": [],
   "source": [
    "df_new.loc[:,'Directors']= df_new.loc[:,'Directors'].copy().apply(removeSpaces)"
   ]
  },
  {
   "cell_type": "code",
   "execution_count": 10,
   "metadata": {},
   "outputs": [
    {
     "data": {
      "text/plain": [
       "0                            ChristopherNolan\n",
       "1                LanaWachowski,LillyWachowski\n",
       "2                       AnthonyRusso,JoeRusso\n",
       "3                              RobertZemeckis\n",
       "4                                 SergioLeone\n",
       "5    BobPersichetti,PeterRamsey,RodneyRothman\n",
       "6                               RomanPolanski\n",
       "7                            QuentinTarantino\n",
       "8                             StevenSpielberg\n",
       "9                            QuentinTarantino\n",
       "Name: Directors, dtype: object"
      ]
     },
     "execution_count": 10,
     "metadata": {},
     "output_type": "execute_result"
    }
   ],
   "source": [
    "df_new['Directors'].head(10)"
   ]
  },
  {
   "cell_type": "markdown",
   "metadata": {},
   "source": [
    "### Creating a function to classify the IMdb rating as \"great\", \"okay\" or \"bad\"\n",
    "> We will use this function to get a new column \"Comment\""
   ]
  },
  {
   "cell_type": "code",
   "execution_count": 11,
   "metadata": {},
   "outputs": [],
   "source": [
    "def getComment(rating):\n",
    "    if rating == None:\n",
    "        return \"\"\n",
    "    elif rating >= 7.6:\n",
    "        return \"great\"\n",
    "    elif rating >= 5.9 and rating <= 7.5:\n",
    "        return \"okay\"\n",
    "    elif  rating < 5.9:\n",
    "        return \"bad\""
   ]
  },
  {
   "cell_type": "code",
   "execution_count": 12,
   "metadata": {
    "scrolled": false
   },
   "outputs": [],
   "source": [
    "df_new.loc[:,'Comment'] = df_new.loc[:,\"IMDb\"].apply(getComment)"
   ]
  },
  {
   "cell_type": "code",
   "execution_count": 151,
   "metadata": {},
   "outputs": [
    {
     "data": {
      "text/plain": [
       "0        great\n",
       "1        great\n",
       "2        great\n",
       "3        great\n",
       "4        great\n",
       "         ...  \n",
       "15425     okay\n",
       "15426     okay\n",
       "15427      bad\n",
       "15428     okay\n",
       "15429      bad\n",
       "Name: Comment, Length: 15430, dtype: object"
      ]
     },
     "execution_count": 151,
     "metadata": {},
     "output_type": "execute_result"
    }
   ],
   "source": [
    "df_new[\"Comment\"]"
   ]
  },
  {
   "cell_type": "markdown",
   "metadata": {},
   "source": [
    "### Finally concatenating values of \"Genres\", \"Directors\", \"Comment\" and \"Age\" columns to get \"bagofwords\"\n",
    "> This column contains all the keywords related to the movie in comma separated format which we will use to generate the similarity matrix"
   ]
  },
  {
   "cell_type": "code",
   "execution_count": 17,
   "metadata": {
    "scrolled": true
   },
   "outputs": [],
   "source": [
    "df_new.loc[:,'bagofwords'] = df_new['Genres'].map(str) + ','  + df_new['Directors'].map(str)  + ',' + df_new['Comment'].map(str)+ ',' + df_new['Age'].map(str)"
   ]
  },
  {
   "cell_type": "markdown",
   "metadata": {},
   "source": [
    "### Removing any \"None\" or \"nan\"  values if present"
   ]
  },
  {
   "cell_type": "code",
   "execution_count": 19,
   "metadata": {},
   "outputs": [],
   "source": [
    "def removeInvalidValue (input):\n",
    "    arr = input.split(\",\")\n",
    "    arr = [i for i in arr if i != \"None\" and i != \"nan\"]\n",
    "    return \",\".join(arr).lower()"
   ]
  },
  {
   "cell_type": "code",
   "execution_count": 21,
   "metadata": {},
   "outputs": [],
   "source": [
    "df_new.loc[:,'bagofwords'] = df_new.loc[:,'bagofwords'].apply(removeInvalidValue)"
   ]
  },
  {
   "cell_type": "code",
   "execution_count": 24,
   "metadata": {},
   "outputs": [
    {
     "data": {
      "text/plain": [
       "0        action,adventure,sci-fi,thriller,christopherno...\n",
       "1        action,sci-fi,lanawachowski,lillywachowski,gre...\n",
       "2        action,adventure,sci-fi,anthonyrusso,joerusso,...\n",
       "3          adventure,comedy,sci-fi,robertzemeckis,great,7+\n",
       "4                            western,sergioleone,great,18+\n",
       "                               ...                        \n",
       "15425           adventure,drama,family,edwardm.abroms,okay\n",
       "15426                drama,family,bernardmceveety,okay,all\n",
       "15427               adventure,family,dereckjoubert,bad,all\n",
       "15428        comedy,family,fantasy,horror,brucebilson,okay\n",
       "15429               comedy,family,sci-fi,nealisrael,bad,7+\n",
       "Name: bagofwords, Length: 15430, dtype: object"
      ]
     },
     "execution_count": 24,
     "metadata": {},
     "output_type": "execute_result"
    }
   ],
   "source": [
    "df_new['bagofwords']"
   ]
  },
  {
   "cell_type": "markdown",
   "metadata": {},
   "source": [
    "## Part 2 - As we now have the \"bagofwords\" we will move on to find similar movies"
   ]
  },
  {
   "cell_type": "markdown",
   "metadata": {},
   "source": [
    "### Importing libraries"
   ]
  },
  {
   "cell_type": "code",
   "execution_count": 26,
   "metadata": {},
   "outputs": [],
   "source": [
    "from sklearn.feature_extraction.text import CountVectorizer\n",
    "from sklearn.metrics.pairwise import cosine_similarity"
   ]
  },
  {
   "cell_type": "markdown",
   "metadata": {},
   "source": [
    "### Converting bagofwords column to a vector (using count vectorization technique)"
   ]
  },
  {
   "cell_type": "code",
   "execution_count": 27,
   "metadata": {},
   "outputs": [],
   "source": [
    "count = CountVectorizer()\n",
    "count_vector =  count.fit_transform(df_new['bagofwords'].values)"
   ]
  },
  {
   "cell_type": "markdown",
   "metadata": {},
   "source": [
    "### Creating a similiarity matrix using the above generated vector\n",
    "> In our case we will use the same count vector at both the ends"
   ]
  },
  {
   "cell_type": "code",
   "execution_count": 28,
   "metadata": {},
   "outputs": [],
   "source": [
    "cosine_sim = cosine_similarity(count_vector, count_vector)"
   ]
  },
  {
   "cell_type": "code",
   "execution_count": 29,
   "metadata": {},
   "outputs": [
    {
     "data": {
      "text/plain": [
       "array([[1.        , 0.53452248, 0.75      , ..., 0.15811388, 0.        ,\n",
       "        0.28867513],\n",
       "       [0.53452248, 1.        , 0.53452248, ..., 0.        , 0.        ,\n",
       "        0.3086067 ],\n",
       "       [0.75      , 0.53452248, 1.        , ..., 0.15811388, 0.        ,\n",
       "        0.28867513],\n",
       "       ...,\n",
       "       [0.15811388, 0.        , 0.15811388, ..., 1.        , 0.18257419,\n",
       "        0.36514837],\n",
       "       [0.        , 0.        , 0.        , ..., 0.18257419, 1.        ,\n",
       "        0.33333333],\n",
       "       [0.28867513, 0.3086067 , 0.28867513, ..., 0.36514837, 0.33333333,\n",
       "        1.        ]])"
      ]
     },
     "execution_count": 29,
     "metadata": {},
     "output_type": "execute_result"
    }
   ],
   "source": [
    "cosine_sim"
   ]
  },
  {
   "cell_type": "markdown",
   "metadata": {},
   "source": [
    "### Creating a method to return 10 similar movies based on an input movie"
   ]
  },
  {
   "cell_type": "code",
   "execution_count": 30,
   "metadata": {},
   "outputs": [],
   "source": [
    "def getSimilarMovies(moviename):\n",
    "    inp_index = df.index[df_new['Title'] == moviename].tolist()[0]\n",
    "    print(inp_index)\n",
    "    similar_index = (-cosine_sim[inp_index]).argsort()[:11]\n",
    "    similar_index = similar_index[similar_index != inp_index]\n",
    "    print(df.iloc[similar_index, [1]]) "
   ]
  },
  {
   "cell_type": "markdown",
   "metadata": {},
   "source": [
    "## Finally we can find similar movies"
   ]
  },
  {
   "cell_type": "markdown",
   "metadata": {},
   "source": [
    "### Input movie : The Matrix"
   ]
  },
  {
   "cell_type": "code",
   "execution_count": 31,
   "metadata": {},
   "outputs": [
    {
     "name": "stdout",
     "output_type": "stream",
     "text": [
      "1\n",
      "                                    Title\n",
      "248                The Matrix Revolutions\n",
      "82                    The Matrix Reloaded\n",
      "27                             District 9\n",
      "759                     Jupiter Ascending\n",
      "295    Terminator 3: Rise of the Machines\n",
      "3206      Star Trek II: The Wrath of Khan\n",
      "13788                        CyberTracker\n",
      "9274                           Fortress 2\n",
      "14169                          Retrograde\n",
      "10928      Exterminators of the Year 3000\n"
     ]
    }
   ],
   "source": [
    "getSimilarMovies(\"The Matrix\")"
   ]
  },
  {
   "cell_type": "markdown",
   "metadata": {},
   "source": [
    "### Input movie : The Incredibles"
   ]
  },
  {
   "cell_type": "code",
   "execution_count": 33,
   "metadata": {},
   "outputs": [
    {
     "name": "stdout",
     "output_type": "stream",
     "text": [
      "14977\n",
      "                                                   Title\n",
      "33                                         Incredibles 2\n",
      "6655                                     The Monkey King\n",
      "293                                      Boy & the World\n",
      "14979                                         Big Hero 6\n",
      "10792                                  The Amazing Zorro\n",
      "161            Lupin the Third: The Castle of Cagliostro\n",
      "1490   Walt Disney Animation Studios Short Films Coll...\n",
      "5                      Spider-Man: Into the Spider-Verse\n",
      "14973                                        Ratatouille\n",
      "70                                       Song of the Sea\n"
     ]
    }
   ],
   "source": [
    "getSimilarMovies(\"The Incredibles\")"
   ]
  }
 ],
 "metadata": {
  "kernelspec": {
   "display_name": "env_moviefinder",
   "language": "python",
   "name": "env_moviefinder"
  },
  "language_info": {
   "codemirror_mode": {
    "name": "ipython",
    "version": 3
   },
   "file_extension": ".py",
   "mimetype": "text/x-python",
   "name": "python",
   "nbconvert_exporter": "python",
   "pygments_lexer": "ipython3",
   "version": "3.8.6"
  }
 },
 "nbformat": 4,
 "nbformat_minor": 4
}
